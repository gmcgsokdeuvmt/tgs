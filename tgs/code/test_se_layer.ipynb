{
 "cells": [
  {
   "cell_type": "code",
   "execution_count": 5,
   "metadata": {},
   "outputs": [
    {
     "data": {
      "text/plain": [
       "torch.Size([2, 2, 2, 2])"
      ]
     },
     "execution_count": 5,
     "metadata": {},
     "output_type": "execute_result"
    }
   ],
   "source": [
    "from models import se_layer\n",
    "import torch\n",
    "a = torch.randn(2, 2, 2, 2)\n",
    "a.shape"
   ]
  },
  {
   "cell_type": "code",
   "execution_count": 14,
   "metadata": {},
   "outputs": [
    {
     "data": {
      "text/plain": [
       "tensor([[[[ 0.7592,  0.5517],\n",
       "          [ 0.4997, -0.4728]],\n",
       "\n",
       "         [[ 0.9792,  1.0331],\n",
       "          [-0.1219,  0.6134]]],\n",
       "\n",
       "\n",
       "        [[[ 0.3638, -1.4389],\n",
       "          [-0.5169,  0.7980]],\n",
       "\n",
       "         [[-0.0714, -0.0648],\n",
       "          [ 0.7823, -0.1168]]]], grad_fn=<MaxBackward2>)"
      ]
     },
     "execution_count": 14,
     "metadata": {},
     "output_type": "execute_result"
    }
   ],
   "source": [
    "scse_layer = se_layer.scSELayer(2)\n",
    "scse_layer(a)"
   ]
  },
  {
   "cell_type": "code",
   "execution_count": 16,
   "metadata": {},
   "outputs": [
    {
     "data": {
      "text/plain": [
       "tensor([[[[ 0.7592,  0.5517],\n",
       "          [ 0.4997, -0.4728]],\n",
       "\n",
       "         [[ 0.9792,  1.0331],\n",
       "          [-0.1571,  0.6134]]],\n",
       "\n",
       "\n",
       "        [[[ 0.3638, -1.4389],\n",
       "          [-0.5169,  0.7980]],\n",
       "\n",
       "         [[-0.0847, -0.0648],\n",
       "          [ 0.7823, -0.1599]]]], grad_fn=<ThMulBackward>)"
      ]
     },
     "execution_count": 16,
     "metadata": {},
     "output_type": "execute_result"
    }
   ],
   "source": [
    "cse_layer = scse_layer.cse_layer\n",
    "cse_layer(a)"
   ]
  },
  {
   "cell_type": "code",
   "execution_count": 15,
   "metadata": {},
   "outputs": [
    {
     "data": {
      "text/plain": [
       "tensor([[[[ 0.4697,  0.3719],\n",
       "          [ 0.4671, -0.5257]],\n",
       "\n",
       "         [[ 0.5028,  0.5779],\n",
       "          [-0.1219,  0.5660]]],\n",
       "\n",
       "\n",
       "        [[[ 0.3401, -2.0663],\n",
       "          [-0.5357,  0.6469]],\n",
       "\n",
       "         [[-0.0714, -0.0839],\n",
       "          [ 0.7308, -0.1168]]]], grad_fn=<ThMulBackward>)"
      ]
     },
     "execution_count": 15,
     "metadata": {},
     "output_type": "execute_result"
    }
   ],
   "source": [
    "sse_layer = scse_layer.sse_layer\n",
    "sse_layer(a)"
   ]
  }
 ],
 "metadata": {
  "kernelspec": {
   "display_name": "Python 3",
   "language": "python",
   "name": "python3"
  },
  "language_info": {
   "codemirror_mode": {
    "name": "ipython",
    "version": 3
   },
   "file_extension": ".py",
   "mimetype": "text/x-python",
   "name": "python",
   "nbconvert_exporter": "python",
   "pygments_lexer": "ipython3",
   "version": "3.6.3"
  }
 },
 "nbformat": 4,
 "nbformat_minor": 2
}
