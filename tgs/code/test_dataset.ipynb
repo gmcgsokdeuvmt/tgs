{
 "cells": [
  {
   "cell_type": "code",
   "execution_count": null,
   "metadata": {
    "collapsed": false,
    "scrolled": true
   },
   "outputs": [
    {
     "name": "stdout",
     "output_type": "stream",
     "text": [
      "Solving environment: - \b\b\\ \b\b| \b\b/ \b\b- \b\b\\ \b\b| \b\b/ \b\b- \b\b\\ \b\b| \b\b/ \b\b- \b\b\\ \b\b| \b\b/ \b\b- \b\b\\ \b\b| \b\b/ \b\b- \b\b\\ \b\b| \b\b/ \b\b- \b\b\\ \b\b| \b\b/ \b\b- \b\b\\ \b\b| \b\b/ \b\b- \b\b\\ \b\b| \b\b/ \b\b- \b\b\\ \b\b| \b\b/ \b\b- \b\b\\ \b\b| \b\b/ \b\b- \b\b\\ \b\b| \b\b/ \b\b- \b\b\\ \b\b| \b\b/ \b\b- \b\b\\ \b\b| \b\b/ \b\b- \b\b\\ \b\b| \b\b/ \b\b- \b\b\\ \b\b| \b\b/ \b\b- \b\b\\ \b\b| \b\b/ \b\b- \b\b\\ \b\b| \b\b/ \b\b- \b\b\\ \b\b| \b\b/ \b\b- \b\b\\ \b\b| \b\b/ \b\b- \b\b\\ \b\b| \b\b/ \b\b- \b\b\\ \b\b| \b\b/ \b\b- \b\b\\ \b\b| \b\b/ \b\b- \b\b\\ \b\b| \b\b/ \b\b- \b\b\\ \b\b| \b\b/ \b\b- \b\b\\ \b\b| \b\b/ \b\b- \b\b\\ \b\b| \b\b/ \b\b- \b\b\\ \b\b| \b\b/ \b\b- \b\b\\ \b\b| \b\b/ \b\b- \b\b\\ \b\b| \b\b/ \b\b- \b\b\\ \b\b| \b\b/ \b\b- \b\b\\ \b\b| \b\b/ \b\b- \b\b\\ \b\b| \b\b/ \b\b- \b\b\\ \b\b| \b\b/ \b\b- \b\b\\ \b\b| \b\b/ \b\b- \b\b\\ \b\b| \b\b/ \b\b- \b\b\\ \b\b| \b\b/ \b\b- \b\b\\ \b\b| \b\b/ \b\b- \b\b\\ \b\b| \b\b/ \b\b- \b\b\\ \b\b| \b\b/ \b\b- \b\b\\ \b\b| \b\b/ \b\b- \b\b\\ \b\b| \b\b/ \b\b- \b\b\\ \b\b| \b\b/ \b\b- \b\b\\ \b\b| \b\b/ \b\b- \b\b\\ \b\b| \b\b/ \b\b- \b\b\\ \b\b| \b\b/ \b\b- \b\b\\ \b\b| \b\b/ \b\b- \b\b\\ \b\b| \b\b/ \b\b- \b\b\\ \b\b| \b\b/ \b\b- \b\b\\ \b\b| \b\b/ \b\b- \b\b\\ \b\b| \b\b/ \b\b- \b\b\\ \b\b| \b\b/ \b\b- \b\b\\ \b\b| \b\b/ \b\b- \b\b\\ \b\b| \b\b/ \b\b- \b\b\\ \b\b| \b\b/ \b\b- \b\b\\ \b\b| \b\b/ \b\b- \b\b\\ \b\b| \b\b/ \b\b- \b\b\\ \b\b| \b\b/ \b\b- \b\b\\ \b\b| \b\b/ \b\b- \b\b\\ \b\b| \b\b/ \b\b- \b\b\\ \b\b| \b\b/ \b\b- \b\b\\ \b\b| \b\b/ \b\b- \b\b\\ \b\b| \b\b/ \b\b- \b\b\\ \b\b| \b\b/ \b\b- \b\b\\ \b\b| \b\b/ \b\b- \b\b\\ \b\b| \b\b/ \b\b- \b\b\\ \b\b| \b\b/ \b\b- \b\b\\ \b\b| \b\b/ \b\b- \b\b\\ \b\b| \b\b/ \b\b- \b\b\\ \b\b| \b\b/ \b\b- \b\b\\ \b\b| \b\b/ \b\b- \b\b\\ \b\b| \b\b/ \b\b- \b\b\\ \b\b| \b\b/ \b\b- \b\b\\ \b\b| \b\b/ \b\b- \b\b\\ \b\b| \b\b/ \b\b- \b\b\\ \b\b| \b\b/ \b\bdone\n",
      "\n",
      "## Package Plan ##\n",
      "\n",
      "  environment location: /home/arashi/anaconda3\n",
      "\n",
      "  added / updated specs: \n",
      "    - pytorch-cpu\n",
      "    - torchvision-cpu\n",
      "\n",
      "\n",
      "The following packages will be downloaded:\n",
      "\n",
      "    package                    |            build\n",
      "    ---------------------------|-----------------\n",
      "    pyqt-4.11.4                |           py35_4         3.3 MB\n",
      "    anaconda-navigator-1.8.4   |           py35_0         4.7 MB\n",
      "    libtiff-4.0.6              |                3         1.5 MB\n",
      "    qt-4.8.7                   |                3        34.1 MB\n",
      "    libstdcxx-ng-8.2.0         |       hdf63c60_1         2.9 MB\n",
      "    spyder-3.0.2               |           py35_0         3.1 MB\n",
      "    mkl_random-1.0.1           |   py35h4414c95_1         362 KB\n",
      "    numpy-1.15.2               |   py35h1d66e8a_0          47 KB\n",
      "    jpeg-9b                    |       h024ee3a_2         248 KB\n",
      "    ninja-1.8.2                |   py35h6bb024c_1         1.3 MB\n",
      "    numpy-base-1.15.2          |   py35h81de0dd_0         4.2 MB\n",
      "    openssl-1.0.2p             |       h14c3975_0         3.5 MB\n",
      "    anaconda-project-0.8.2     |           py35_0         482 KB\n",
      "    pillow-4.2.1               |           py35_0         870 KB\n",
      "    qtconsole-4.3.1            |   py35h4626a06_0         151 KB\n",
      "    pytorch-cpu-0.4.1          |       py35_cpu_1        55.4 MB  pytorch\n",
      "    torchvision-cpu-0.2.1      |           py35_1         124 KB  pytorch\n",
      "    intel-openmp-2019.0        |              118         721 KB\n",
      "    mkl-2019.0                 |              118       204.4 MB\n",
      "    chardet-3.0.4              |           py35_1         191 KB\n",
      "    olefile-0.46               |           py35_0          48 KB\n",
      "    mkl_fft-1.0.6              |   py35h7dd41cf_0         149 KB\n",
      "    libgfortran-ng-7.3.0       |       hdf63c60_0         1.3 MB\n",
      "    ------------------------------------------------------------\n",
      "                                           Total:       323.0 MB\n",
      "\n",
      "The following NEW packages will be INSTALLED:\n",
      "\n",
      "    anaconda-project:   0.8.2-py35_0                 \n",
      "    blas:               1.0-mkl                      \n",
      "    ca-certificates:    2018.03.07-0                 \n",
      "    chardet:            3.0.4-py35_1                 \n",
      "    intel-openmp:       2019.0-118                   \n",
      "    libgfortran-ng:     7.3.0-hdf63c60_0             \n",
      "    libstdcxx-ng:       8.2.0-hdf63c60_1             \n",
      "    mkl_fft:            1.0.6-py35h7dd41cf_0         \n",
      "    mkl_random:         1.0.1-py35h4414c95_1         \n",
      "    ninja:              1.8.2-py35h6bb024c_1         \n",
      "    numpy-base:         1.15.2-py35h81de0dd_0        \n",
      "    olefile:            0.46-py35_0                  \n",
      "    pytorch-cpu:        0.4.1-py35_cpu_1      pytorch\n",
      "    torchvision-cpu:    0.2.1-py35_1          pytorch\n",
      "\n",
      "The following packages will be UPDATED:\n",
      "\n",
      "    anaconda-navigator: 1.3.1-py35_0                  --> 1.8.4-py35_0         \n",
      "    jpeg:               8d-2                          --> 9b-h024ee3a_2        \n",
      "    libtiff:            4.0.6-2                       --> 4.0.6-3              \n",
      "    mkl:                11.3.3-0                      --> 2019.0-118           \n",
      "    numpy:              1.11.1-py35_0                 --> 1.15.2-py35h1d66e8a_0\n",
      "    openssl:            1.0.2j-0                      --> 1.0.2p-h14c3975_0    \n",
      "    pillow:             3.3.1-py35_0                  --> 4.2.1-py35_0         \n",
      "    qtconsole:          4.2.1-py35_1                  --> 4.3.1-py35h4626a06_0 \n",
      "    spyder:             3.0.0-py35_0                  --> 3.0.2-py35_0         \n",
      "\n",
      "The following packages will be DOWNGRADED:\n",
      "\n",
      "    pyqt:               5.6.0-py35_0                  --> 4.11.4-py35_4        \n",
      "    qt:                 5.6.0-0                       --> 4.8.7-3              \n",
      "\n",
      "\n",
      "Downloading and Extracting Packages\n",
      "pyqt-4.11.4          | 3.3 MB    | ##################################### | 100% \n",
      "anaconda-navigator-1 | 4.7 MB    | #######################6              |  64% "
     ]
    }
   ],
   "source": [
    "!conda install pytorch-cpu torchvision-cpu -c pytorch -y\n",
    "import dataset"
   ]
  },
  {
   "cell_type": "code",
   "execution_count": 2,
   "metadata": {
    "collapsed": false
   },
   "outputs": [
    {
     "name": "stdout",
     "output_type": "stream",
     "text": [
      "(4000, 101, 101, 1) (4000, 101, 101, 1)\n"
     ]
    }
   ],
   "source": [
    "dset = dataset.Dataset()\n",
    "dset.load_images_and_masks('../../../Documents/notebooks/kaggle/train/images',\n",
    "                          '../../../Documents/notebooks/kaggle/train/masks')\n",
    "print(dset.images.shape,dset.masks.shape)"
   ]
  }
 ],
 "metadata": {
  "anaconda-cloud": {},
  "kernelspec": {
   "display_name": "Python [default]",
   "language": "python",
   "name": "python3"
  },
  "language_info": {
   "codemirror_mode": {
    "name": "ipython",
    "version": 3
   },
   "file_extension": ".py",
   "mimetype": "text/x-python",
   "name": "python",
   "nbconvert_exporter": "python",
   "pygments_lexer": "ipython3",
   "version": "3.5.2"
  }
 },
 "nbformat": 4,
 "nbformat_minor": 2
}
