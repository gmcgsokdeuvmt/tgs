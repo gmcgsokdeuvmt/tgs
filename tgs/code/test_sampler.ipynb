{
 "cells": [
  {
   "cell_type": "code",
   "execution_count": 2,
   "metadata": {},
   "outputs": [],
   "source": [
    "import dataset\n",
    "from sampler import sampler"
   ]
  },
  {
   "cell_type": "code",
   "execution_count": 3,
   "metadata": {},
   "outputs": [
    {
     "name": "stdout",
     "output_type": "stream",
     "text": [
      "(4000, 101, 101, 1) (4000, 101, 101, 1)\n"
     ]
    }
   ],
   "source": [
    "dset = dataset.Dataset()\n",
    "dset.load_images_and_masks('../../../Documents/notebooks/kaggle/train/images',\n",
    "                          '../../../Documents/notebooks/kaggle/train/masks')\n",
    "print(dset.images.shape,dset.masks.shape)"
   ]
  },
  {
   "cell_type": "code",
   "execution_count": 4,
   "metadata": {},
   "outputs": [
    {
     "data": {
      "text/plain": [
       "(3, 224, 224)"
      ]
     },
     "execution_count": 4,
     "metadata": {},
     "output_type": "execute_result"
    }
   ],
   "source": [
    "sampler.sample(dset[0])[0].shape"
   ]
  },
  {
   "cell_type": "code",
   "execution_count": 5,
   "metadata": {},
   "outputs": [
    {
     "name": "stdout",
     "output_type": "stream",
     "text": [
      "(202, 202, 1) (202, 202, 1)\n",
      "(256, 256, 1) (256, 256, 1)\n",
      "(256, 256, 3) (256, 256, 1)\n",
      "(3, 256, 256) (1, 256, 256)\n"
     ]
    }
   ],
   "source": [
    "% matplotlib inline\n",
    "from skimage import io\n",
    "inputs = sampler.resize202_pair(dset[0])\n",
    "print(inputs[0].shape,inputs[1].shape)\n",
    "inputs = sampler.pad256_pair(inputs)\n",
    "print(inputs[0].shape,inputs[1].shape)\n",
    "x, t = inputs\n",
    "x = sampler.repeatx3(x)\n",
    "inputs = [x,t]\n",
    "print(inputs[0].shape,inputs[1].shape)\n",
    "inputs = sampler.hwc2chw_pair([x,t])\n",
    "print(inputs[0].shape,inputs[1].shape)"
   ]
  },
  {
   "cell_type": "code",
   "execution_count": null,
   "metadata": {},
   "outputs": [],
   "source": []
  }
 ],
 "metadata": {
  "kernelspec": {
   "display_name": "Python 3",
   "language": "python",
   "name": "python3"
  },
  "language_info": {
   "codemirror_mode": {
    "name": "ipython",
    "version": 3
   },
   "file_extension": ".py",
   "mimetype": "text/x-python",
   "name": "python",
   "nbconvert_exporter": "python",
   "pygments_lexer": "ipython3",
   "version": "3.6.3"
  }
 },
 "nbformat": 4,
 "nbformat_minor": 2
}
